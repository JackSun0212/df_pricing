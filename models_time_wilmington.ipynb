{
 "cells": [
  {
   "cell_type": "code",
   "execution_count": 1,
   "metadata": {},
   "outputs": [],
   "source": [
    "%%capture --no-stdout\n",
    "import os\n",
    "from scipy.stats import ks_2samp\n",
    "\n",
    "from utils import *\n",
    "from preprocessing import *\n",
    "from models import *\n",
    "import warnings\n",
    "warnings.filterwarnings('ignore')\n",
    "\n",
    "matplotlib.style.use('ggplot')\n",
    "%matplotlib inline"
   ]
  },
  {
   "cell_type": "code",
   "execution_count": 2,
   "metadata": {},
   "outputs": [
    {
     "name": "stdout",
     "output_type": "stream",
     "text": [
      "Data loaded\n",
      "Data loaded\n"
     ]
    }
   ],
   "source": [
    "%%capture --no-stdout\n",
    "df = load_frame_for_prediction('reno')\n",
    "df_time = load_date_frame('reno')"
   ]
  },
  {
   "cell_type": "code",
   "execution_count": 3,
   "metadata": {},
   "outputs": [],
   "source": [
    "df_time.drop(['WOCATEGORY', 'start', 'finish'], axis=1, inplace=True)"
   ]
  },
  {
   "cell_type": "code",
   "execution_count": 4,
   "metadata": {
    "scrolled": true
   },
   "outputs": [],
   "source": [
    "data = df.merge(df_time, on=\"WORKORDERKEY\").set_index(\"WORKORDERKEY\")"
   ]
  },
  {
   "cell_type": "code",
   "execution_count": 5,
   "metadata": {},
   "outputs": [
    {
     "name": "stdout",
     "output_type": "stream",
     "text": [
      "Outliers represents 28.5% of the dataset\n",
      "Outliers represents 36.5% of the dataset\n",
      "Outliers represents 19.6% of the dataset\n",
      "Outliers represents 19.4% of the dataset\n"
     ]
    }
   ],
   "source": [
    "data_list = remove_outliers(data)"
   ]
  },
  {
   "cell_type": "code",
   "execution_count": null,
   "metadata": {
    "scrolled": true
   },
   "outputs": [],
   "source": []
  },
  {
   "cell_type": "code",
   "execution_count": 6,
   "metadata": {},
   "outputs": [],
   "source": [
    "def get_time_outliers(data):\n",
    "    outliers=set()\n",
    "\n",
    "    #drop when length_of_time_in_days is very low\n",
    "    min_= data.length_of_time_in_days.quantile(0.03)\n",
    "    outliers.update(data[data.length_of_time_in_days<min_].index)\n",
    "    \n",
    "    # With 2IQR rule, high drop length_of_time_in_days values \n",
    "    max_ = get_iqr_bound(data.length_of_time_in_days)\n",
    "    outliers.update(data[data.length_of_time_in_days>max_].index)\n",
    "    \n",
    "    print(min_, max_)\n",
    "    print('Outliers represents {}% of the dataset'.format(np.round(100*len(outliers)/len(data),1)))\n",
    "    return outliers\n",
    "\n",
    "def remove_time_outliers(d_list):\n",
    "    res = []\n",
    "    for d in d_list:\n",
    "        res.append(d.drop(get_time_outliers(d)))\n",
    "    return res"
   ]
  },
  {
   "cell_type": "code",
   "execution_count": 7,
   "metadata": {},
   "outputs": [
    {
     "name": "stdout",
     "output_type": "stream",
     "text": [
      "1.0 176.0\n",
      "Outliers represents 4.1% of the dataset\n",
      "1.0 26.0\n",
      "Outliers represents 12.1% of the dataset\n",
      "4.0 85.0\n",
      "Outliers represents 6.7% of the dataset\n",
      "2.0 35.75\n",
      "Outliers represents 8.5% of the dataset\n"
     ]
    }
   ],
   "source": [
    "clean_list = remove_time_outliers(data_list)"
   ]
  },
  {
   "cell_type": "markdown",
   "metadata": {},
   "source": [
    "# Models\n",
    "\n",
    "### Metric = R^2"
   ]
  },
  {
   "cell_type": "code",
   "execution_count": 8,
   "metadata": {},
   "outputs": [],
   "source": [
    "features_0, _, _, _ = prep_data_for_modelisation(clean_list[0])"
   ]
  },
  {
   "cell_type": "code",
   "execution_count": 9,
   "metadata": {},
   "outputs": [],
   "source": [
    "target_0 = features_0['length_of_time_in_days']\n",
    "features_0.drop(\"length_of_time_in_days\", axis=1, inplace=True)"
   ]
  },
  {
   "cell_type": "code",
   "execution_count": null,
   "metadata": {},
   "outputs": [],
   "source": []
  },
  {
   "cell_type": "code",
   "execution_count": 10,
   "metadata": {},
   "outputs": [
    {
     "name": "stdout",
     "output_type": "stream",
     "text": [
      "############# lasso ################\n",
      "Best parameters : {'alpha': 1.833}\n",
      "Scores \n",
      "Train: 0.30918322410247956 % (+/- 0.060963910522547946)\n",
      "Test: -5.2644603793563105 % (+/- 12.506466416425484)\n",
      "\n",
      "############# ridge ################\n",
      "Best parameters : {'alpha': 112.8838}\n",
      "Scores \n",
      "Train: 0.25809570084288774 % (+/- 0.03880692566512761)\n",
      "Test: -5.845080109852946 % (+/- 14.56929599718506)\n",
      "\n"
     ]
    }
   ],
   "source": [
    "# Lasso Model\n",
    "warnings.filterwarnings('ignore')\n",
    "pg = {'alpha' : np.round(np.logspace(start=0, stop = 5, num = 20), 4)}\n",
    "gs = cross_validate_model(data=features_0,target=target_0,\n",
    "                     model='lasso', param_grid=pg, scale=True, scoring=None)\n",
    "\n",
    "# Ridge Model\n",
    "pg = {'alpha' : np.round(np.logspace(start=-2, stop = 5, num = 20), 4)}\n",
    "gs = cross_validate_model(data=features_0,target=target_0,\n",
    "                     model='ridge', param_grid=pg, scale=True, scoring=None)"
   ]
  },
  {
   "cell_type": "markdown",
   "metadata": {},
   "source": [
    "# Feature importances & selection\n",
    "\n",
    "I drop features where more than 80% of values are 0.\n",
    "\n",
    "I then select the 20 best with Lasso (or less if less than 20 features has non null coefficients)"
   ]
  },
  {
   "cell_type": "code",
   "execution_count": 11,
   "metadata": {},
   "outputs": [],
   "source": [
    "best_feat = features_0[select_lasso_k_best(features_0, target_0)]"
   ]
  },
  {
   "cell_type": "code",
   "execution_count": 12,
   "metadata": {
    "scrolled": true
   },
   "outputs": [
    {
     "name": "stdout",
     "output_type": "stream",
     "text": [
      "############# lasso ################\n",
      "Best parameters : {'alpha': 1.0}\n",
      "Scores \n",
      "Train: 0.3215407811143033 % (+/- 0.060445737857488635)\n",
      "Test: -3.938938454848508 % (+/- 9.508608528605043)\n",
      "\n",
      "############# ridge ################\n",
      "Best parameters : {'alpha': 14.3845}\n",
      "Scores \n",
      "Train: 0.318668166488461 % (+/- 0.05913109030240433)\n",
      "Test: -3.5628174750698447 % (+/- 8.770232941109859)\n",
      "\n"
     ]
    }
   ],
   "source": [
    "# Lasso Model\n",
    "warnings.filterwarnings('ignore')\n",
    "pg = {'alpha' : np.round(np.logspace(start=0, stop = 2, num = 20), 4)}\n",
    "gs = cross_validate_model(data=best_feat,target=target_0,\n",
    "                     model='lasso', param_grid=pg, scale=True, scoring=None)\n",
    "\n",
    "# Ridge Model\n",
    "pg = {'alpha' : np.round(np.logspace(start=-2, stop = 2, num = 20), 4)}\n",
    "gs = cross_validate_model(data=best_feat,target=target_0,\n",
    "                     model='ridge', param_grid=pg, scale=True, scoring=None)"
   ]
  },
  {
   "cell_type": "markdown",
   "metadata": {},
   "source": [
    "# Results"
   ]
  },
  {
   "cell_type": "code",
   "execution_count": 13,
   "metadata": {},
   "outputs": [],
   "source": [
    "scores=[]\n",
    "for data,name in zip(clean_list, ['C1', 'C2', 'B3', 'B4']):\n",
    "    s = get_time_result(data)\n",
    "    scores.append(pd.Series(s, name=name))"
   ]
  },
  {
   "cell_type": "code",
   "execution_count": 14,
   "metadata": {},
   "outputs": [],
   "source": [
    "time_results = pd.concat(scores,axis=1)"
   ]
  },
  {
   "cell_type": "code",
   "execution_count": 15,
   "metadata": {},
   "outputs": [],
   "source": [
    "def highlight_max(s):\n",
    "    '''\n",
    "    highlight the maximum in a Series yellow.\n",
    "    '''\n",
    "    is_max = s == s.max()\n",
    "    return ['background-color: yellow' if v else '' for v in is_max]"
   ]
  },
  {
   "cell_type": "code",
   "execution_count": 16,
   "metadata": {},
   "outputs": [
    {
     "data": {
      "text/html": [
       "<style  type=\"text/css\" >\n",
       "    #T_735d5db0_e759_11e8_a3f6_34363bccc6acrow3_col0 {\n",
       "            background-color:  yellow;\n",
       "        }    #T_735d5db0_e759_11e8_a3f6_34363bccc6acrow3_col1 {\n",
       "            background-color:  yellow;\n",
       "        }    #T_735d5db0_e759_11e8_a3f6_34363bccc6acrow3_col2 {\n",
       "            background-color:  yellow;\n",
       "        }    #T_735d5db0_e759_11e8_a3f6_34363bccc6acrow3_col3 {\n",
       "            background-color:  yellow;\n",
       "        }</style>  \n",
       "<table id=\"T_735d5db0_e759_11e8_a3f6_34363bccc6ac\" > \n",
       "<thead>    <tr> \n",
       "        <th class=\"blank level0\" ></th> \n",
       "        <th class=\"col_heading level0 col0\" >C1</th> \n",
       "        <th class=\"col_heading level0 col1\" >C2</th> \n",
       "        <th class=\"col_heading level0 col2\" >B3</th> \n",
       "        <th class=\"col_heading level0 col3\" >B4</th> \n",
       "    </tr></thead> \n",
       "<tbody>    <tr> \n",
       "        <th id=\"T_735d5db0_e759_11e8_a3f6_34363bccc6aclevel0_row0\" class=\"row_heading level0 row0\" >Lasso</th> \n",
       "        <td id=\"T_735d5db0_e759_11e8_a3f6_34363bccc6acrow0_col0\" class=\"data row0 col0\" >-5.41308</td> \n",
       "        <td id=\"T_735d5db0_e759_11e8_a3f6_34363bccc6acrow0_col1\" class=\"data row0 col1\" >-0.0960799</td> \n",
       "        <td id=\"T_735d5db0_e759_11e8_a3f6_34363bccc6acrow0_col2\" class=\"data row0 col2\" >0.325065</td> \n",
       "        <td id=\"T_735d5db0_e759_11e8_a3f6_34363bccc6acrow0_col3\" class=\"data row0 col3\" >0.153888</td> \n",
       "    </tr>    <tr> \n",
       "        <th id=\"T_735d5db0_e759_11e8_a3f6_34363bccc6aclevel0_row1\" class=\"row_heading level0 row1\" >Lasso with feature selection</th> \n",
       "        <td id=\"T_735d5db0_e759_11e8_a3f6_34363bccc6acrow1_col0\" class=\"data row1 col0\" >-4.05638</td> \n",
       "        <td id=\"T_735d5db0_e759_11e8_a3f6_34363bccc6acrow1_col1\" class=\"data row1 col1\" >-0.00212882</td> \n",
       "        <td id=\"T_735d5db0_e759_11e8_a3f6_34363bccc6acrow1_col2\" class=\"data row1 col2\" >0.499175</td> \n",
       "        <td id=\"T_735d5db0_e759_11e8_a3f6_34363bccc6acrow1_col3\" class=\"data row1 col3\" >0.181765</td> \n",
       "    </tr>    <tr> \n",
       "        <th id=\"T_735d5db0_e759_11e8_a3f6_34363bccc6aclevel0_row2\" class=\"row_heading level0 row2\" >Ridge</th> \n",
       "        <td id=\"T_735d5db0_e759_11e8_a3f6_34363bccc6acrow2_col0\" class=\"data row2 col0\" >-5.84508</td> \n",
       "        <td id=\"T_735d5db0_e759_11e8_a3f6_34363bccc6acrow2_col1\" class=\"data row2 col1\" >-0.0273525</td> \n",
       "        <td id=\"T_735d5db0_e759_11e8_a3f6_34363bccc6acrow2_col2\" class=\"data row2 col2\" >0.235864</td> \n",
       "        <td id=\"T_735d5db0_e759_11e8_a3f6_34363bccc6acrow2_col3\" class=\"data row2 col3\" >0.131524</td> \n",
       "    </tr>    <tr> \n",
       "        <th id=\"T_735d5db0_e759_11e8_a3f6_34363bccc6aclevel0_row3\" class=\"row_heading level0 row3\" >Ridge with feature selection</th> \n",
       "        <td id=\"T_735d5db0_e759_11e8_a3f6_34363bccc6acrow3_col0\" class=\"data row3 col0\" >-3.59369</td> \n",
       "        <td id=\"T_735d5db0_e759_11e8_a3f6_34363bccc6acrow3_col1\" class=\"data row3 col1\" >0.0143582</td> \n",
       "        <td id=\"T_735d5db0_e759_11e8_a3f6_34363bccc6acrow3_col2\" class=\"data row3 col2\" >0.514698</td> \n",
       "        <td id=\"T_735d5db0_e759_11e8_a3f6_34363bccc6acrow3_col3\" class=\"data row3 col3\" >0.202618</td> \n",
       "    </tr></tbody> \n",
       "</table> "
      ],
      "text/plain": [
       "<pandas.io.formats.style.Styler at 0x110b127f0>"
      ]
     },
     "execution_count": 16,
     "metadata": {},
     "output_type": "execute_result"
    }
   ],
   "source": [
    "time_results.style.apply(highlight_max)"
   ]
  },
  {
   "cell_type": "code",
   "execution_count": null,
   "metadata": {},
   "outputs": [],
   "source": []
  },
  {
   "cell_type": "code",
   "execution_count": 17,
   "metadata": {},
   "outputs": [],
   "source": [
    "os.makedirs('scores', exist_ok=True)\n",
    "time_results.to_csv(os.path.join('scores','time_results_wilmington.csv'))"
   ]
  },
  {
   "cell_type": "code",
   "execution_count": 18,
   "metadata": {},
   "outputs": [
    {
     "ename": "NameError",
     "evalue": "name 'features' is not defined",
     "output_type": "error",
     "traceback": [
      "\u001b[0;31m---------------------------------------------------------------------------\u001b[0m",
      "\u001b[0;31mNameError\u001b[0m                                 Traceback (most recent call last)",
      "\u001b[0;32m<ipython-input-18-02a35666b33b>\u001b[0m in \u001b[0;36m<module>\u001b[0;34m()\u001b[0m\n\u001b[1;32m      2\u001b[0m \u001b[0mwarnings\u001b[0m\u001b[0;34m.\u001b[0m\u001b[0mfilterwarnings\u001b[0m\u001b[0;34m(\u001b[0m\u001b[0;34m'ignore'\u001b[0m\u001b[0;34m)\u001b[0m\u001b[0;34m\u001b[0m\u001b[0m\n\u001b[1;32m      3\u001b[0m \u001b[0mpg\u001b[0m \u001b[0;34m=\u001b[0m \u001b[0;34m{\u001b[0m\u001b[0;34m'alpha'\u001b[0m \u001b[0;34m:\u001b[0m \u001b[0mnp\u001b[0m\u001b[0;34m.\u001b[0m\u001b[0mround\u001b[0m\u001b[0;34m(\u001b[0m\u001b[0mnp\u001b[0m\u001b[0;34m.\u001b[0m\u001b[0mlogspace\u001b[0m\u001b[0;34m(\u001b[0m\u001b[0mstart\u001b[0m\u001b[0;34m=\u001b[0m\u001b[0;36m0\u001b[0m\u001b[0;34m,\u001b[0m \u001b[0mstop\u001b[0m \u001b[0;34m=\u001b[0m \u001b[0;36m5\u001b[0m\u001b[0;34m,\u001b[0m \u001b[0mnum\u001b[0m \u001b[0;34m=\u001b[0m \u001b[0;36m20\u001b[0m\u001b[0;34m)\u001b[0m\u001b[0;34m,\u001b[0m \u001b[0;36m4\u001b[0m\u001b[0;34m)\u001b[0m\u001b[0;34m}\u001b[0m\u001b[0;34m\u001b[0m\u001b[0m\n\u001b[0;32m----> 4\u001b[0;31m gs = cross_validate_model(data=features[col],target=target,\n\u001b[0m\u001b[1;32m      5\u001b[0m                      model='lasso', param_grid=pg, scale=True, scoring=None)\n\u001b[1;32m      6\u001b[0m \u001b[0;34m\u001b[0m\u001b[0m\n",
      "\u001b[0;31mNameError\u001b[0m: name 'features' is not defined"
     ]
    }
   ],
   "source": [
    "# Lasso Model\n",
    "warnings.filterwarnings('ignore')\n",
    "pg = {'alpha' : np.round(np.logspace(start=0, stop = 5, num = 20), 4)}\n",
    "gs = cross_validate_model(data=features[col],target=target,\n",
    "                     model='lasso', param_grid=pg, scale=True, scoring=None)\n",
    "\n",
    "# Ridge Model\n",
    "pg = {'alpha' : np.round(np.logspace(start=-2, stop = 5, num = 20), 4)}\n",
    "gs = cross_validate_model(data=features[col],target=target,\n",
    "                     model='ridge', param_grid=pg, scale=True, scoring=None)"
   ]
  },
  {
   "cell_type": "code",
   "execution_count": null,
   "metadata": {},
   "outputs": [],
   "source": [
    "col=['TOTALLABORESTIMATEDCOST']"
   ]
  },
  {
   "cell_type": "code",
   "execution_count": null,
   "metadata": {},
   "outputs": [],
   "source": []
  }
 ],
 "metadata": {
  "kernelspec": {
   "display_name": "Python 3",
   "language": "python",
   "name": "python3"
  },
  "language_info": {
   "codemirror_mode": {
    "name": "ipython",
    "version": 3
   },
   "file_extension": ".py",
   "mimetype": "text/x-python",
   "name": "python",
   "nbconvert_exporter": "python",
   "pygments_lexer": "ipython3",
   "version": "3.7.0"
  }
 },
 "nbformat": 4,
 "nbformat_minor": 2
}
