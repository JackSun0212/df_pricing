{
 "cells": [
  {
   "cell_type": "code",
   "execution_count": null,
   "metadata": {},
   "outputs": [],
   "source": [
    "from utils import *\n",
    "from preprocessing import *\n",
    "\n",
    "matplotlib.style.use('ggplot')"
   ]
  },
  {
   "cell_type": "code",
   "execution_count": null,
   "metadata": {},
   "outputs": [],
   "source": [
    "df_date = load_date_frame('wilmington')"
   ]
  },
  {
   "cell_type": "code",
   "execution_count": null,
   "metadata": {},
   "outputs": [],
   "source": [
    "# WOCategories\n",
    "WO_count = df_date.groupby(['WOCATEGORY'])['WORKORDERKEY'].count()\\\n",
    "                                                          .reset_index(name='count') \\\n",
    "                                                          .set_index('WOCATEGORY')\\\n",
    "                                                          .sort_values(['count'], ascending=False) \n",
    "            \n",
    "category_encoder = {}\n",
    "for i, cat in enumerate(WO_count.index):\n",
    "    category_encoder.update({i:cat})\n",
    "print(WO_count)"
   ]
  },
  {
   "cell_type": "code",
   "execution_count": null,
   "metadata": {},
   "outputs": [],
   "source": [
    "##Average time :\n",
    "\n",
    "print('########   Time spend in the hangar : DESCRIPTION   #########')\n",
    "time_in_days = df_date.length_of_time_in_days\n",
    "print(time_in_days.describe())\n",
    "\n",
    "\n",
    "fig = plt.figure(figsize=(12,6))\n",
    "time_in_days.hist(bins=range(0, int(max(time_in_days)+1) , int(max(time_in_days)/90) ))\n",
    "plt.xlabel('Time spend in the hangar (days)')\n",
    "plt.ylabel('# of aircraft')\n",
    "plt.show()"
   ]
  },
  {
   "cell_type": "code",
   "execution_count": null,
   "metadata": {},
   "outputs": [],
   "source": [
    "# Cutting the tail\n",
    "fig = plt.figure(figsize=(12,6))\n",
    "time_in_days.hist(bins=range(0,100))\n",
    "plt.xlabel('Time spent in the hangar (days)')\n",
    "plt.ylabel('# of aircraft')\n",
    "plt.show()"
   ]
  },
  {
   "cell_type": "code",
   "execution_count": null,
   "metadata": {},
   "outputs": [],
   "source": [
    "# Stacked category\n",
    "time_by_category = []\n",
    "for i in range(len(category_encoder)):\n",
    "    cat = category_encoder[i]\n",
    "    time_by_category.append(time_in_days.loc[df_date.WOCATEGORY == cat])\n",
    "    \n",
    "colors = ['crimson' , 'mediumblue', 'orange', 'orchid','indigo', 'yellowgreen', 'maroon']\n",
    "\n",
    "fig, ax = plt.subplots(figsize=(12,6))\n",
    "plt.hist(x=time_by_category, bins=range(0,100), stacked=True, color=colors+colors)\n",
    "plt.xlabel('Time spent in the hangar (days)')\n",
    "plt.ylabel('Number of aircraft')\n",
    "\n",
    "\n",
    "#adding a legend only for the 3 main categories\n",
    "custom_lines = [Line2D([0], [0], color=colors[0]),\n",
    "                Line2D([0], [0], color=colors[1]),\n",
    "                Line2D([0], [0], color=colors[2]),\n",
    "                Line2D([0], [0], color=colors[3])]\n",
    "ax.legend(custom_lines, [category_encoder[0],category_encoder[1],category_encoder[2],category_encoder[3]])\n",
    "\n",
    "plt.show()"
   ]
  },
  {
   "cell_type": "code",
   "execution_count": null,
   "metadata": {
    "scrolled": false
   },
   "outputs": [],
   "source": [
    "#plot for the 4 main categories :\n",
    "for i in range(4): \n",
    "    cat = category_encoder[i]\n",
    "    \n",
    "    fig = plt.figure(figsize=(12,6))\n",
    "    time_by_category[i].hist(bins=range(0,100), color=colors[i%7])\n",
    "    plt.xlabel('Time spent in the hangar (days)')\n",
    "    plt.ylabel('# of aircraft')\n",
    "    plt.title(cat)\n",
    "    plt.show()"
   ]
  },
  {
   "cell_type": "code",
   "execution_count": null,
   "metadata": {},
   "outputs": [],
   "source": []
  },
  {
   "cell_type": "code",
   "execution_count": null,
   "metadata": {},
   "outputs": [],
   "source": [
    "# barchart with the number of aircraft in the hangar for each day"
   ]
  },
  {
   "cell_type": "code",
   "execution_count": null,
   "metadata": {},
   "outputs": [],
   "source": [
    "def daterange(start_date, end_date):\n",
    "    for n in range(int ((end_date - start_date).days)):\n",
    "        yield start_date + timedelta(n)\n",
    "\n",
    "list_of_days = []\n",
    "for start_date, end_date in zip(df_date.start, df_date.finish):\n",
    "    for single_date in daterange(start_date, end_date):\n",
    "        list_of_days.append(single_date)\n",
    "tmp_series = pd.Series(list_of_days)"
   ]
  },
  {
   "cell_type": "code",
   "execution_count": null,
   "metadata": {},
   "outputs": [],
   "source": [
    "fig = plt.figure(figsize=(20,10))\n",
    "tmp_series.hist(bins=(df_date.finish.max() - df_date.start.min()).days)\n",
    "plt.xlabel('time')\n",
    "plt.ylabel('Number of aircrafts')\n",
    "plt.title('Hangar Occupancy through the years')\n",
    "plt.show()"
   ]
  },
  {
   "cell_type": "code",
   "execution_count": null,
   "metadata": {},
   "outputs": [],
   "source": []
  }
 ],
 "metadata": {
  "kernelspec": {
   "display_name": "Python 3",
   "language": "python",
   "name": "python3"
  },
  "language_info": {
   "codemirror_mode": {
    "name": "ipython",
    "version": 3
   },
   "file_extension": ".py",
   "mimetype": "text/x-python",
   "name": "python",
   "nbconvert_exporter": "python",
   "pygments_lexer": "ipython3",
   "version": "3.7.0"
  }
 },
 "nbformat": 4,
 "nbformat_minor": 2
}
