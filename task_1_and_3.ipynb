{
 "cells": [
  {
   "cell_type": "code",
   "execution_count": null,
   "metadata": {
    "collapsed": true
   },
   "outputs": [],
   "source": [
    "%%capture --no-stdout\n",
    "import os\n",
    "from scipy.stats import ks_2samp\n",
    "\n",
    "from utils import *\n",
    "\n",
    "matplotlib.style.use('ggplot')\n",
    "%matplotlib inline"
   ]
  },
  {
   "cell_type": "code",
   "execution_count": null,
   "metadata": {
    "collapsed": true
   },
   "outputs": [],
   "source": [
    "def get_labor_hours(data):\n",
    "    columns_of_interest = ['WORKORDERKEY','ORIGINATINGSQUAWK','ESTIMATEDLABORCOSTHOURS']\n",
    "    df_i = data[columns_of_interest]\n",
    "    df_ori = df_i[df_i.ORIGINATINGSQUAWK==0]\n",
    "    labor = df_ori.groupby(['WORKORDERKEY']).sum().drop('ORIGINATINGSQUAWK', axis=1)\n",
    "    return labor\n",
    "    "
   ]
  },
  {
   "cell_type": "code",
   "execution_count": null,
   "metadata": {},
   "outputs": [],
   "source": [
    "wil = pd.read_csv(get_data_path('wilmington'))\n",
    "reno = pd.read_csv(get_data_path('reno'))\n",
    "lirock = pd.read_csv(get_data_path('littlerock'))"
   ]
  },
  {
   "cell_type": "code",
   "execution_count": null,
   "metadata": {
    "collapsed": true
   },
   "outputs": [],
   "source": [
    "labor_w=get_labor_hours(wil)\n",
    "labor_r=get_labor_hours(reno)\n",
    "labor_l=get_labor_hours(lirock)"
   ]
  },
  {
   "cell_type": "code",
   "execution_count": null,
   "metadata": {
    "collapsed": true
   },
   "outputs": [],
   "source": [
    "labor_w.to_csv('wilmington_labor_hours.csv')\n",
    "labor_r.to_csv('reno_labor_hours.csv')\n",
    "labor_l.to_csv('littlerock_labor_hours.csv')"
   ]
  },
  {
   "cell_type": "code",
   "execution_count": null,
   "metadata": {
    "collapsed": true
   },
   "outputs": [],
   "source": [
    "conc = pd.concat([labor_w.quantile(np.round(np.linspace(0,1,11),1)),\n",
    "          labor_r.quantile(np.round(np.linspace(0,1,11),1)),\n",
    "          labor_l.quantile(np.round(np.linspace(0,1,11),1))],\n",
    "          axis=1)\n",
    "conc.columns=['wilmington','reno','littlerock']\n",
    "conc = conc.transpose()\n",
    "conc['mean']= [labor_w.mean().iloc[0],labor_r.mean().iloc[0],labor_l.mean().iloc[0]]\n",
    "conc['std']= [labor_w.std().iloc[0],labor_r.std().iloc[0],labor_l.std().iloc[0]]\n",
    "conc= conc[['mean', 'std',0.0, 0.1, 0.2, 0.3, 0.4, 0.5, 0.6, 0.7, 0.8, 0.9, 1.0]]\n",
    "conc.to_csv('labor_cost_summary.csv')"
   ]
  },
  {
   "cell_type": "code",
   "execution_count": null,
   "metadata": {
    "collapsed": true
   },
   "outputs": [],
   "source": []
  },
  {
   "cell_type": "code",
   "execution_count": null,
   "metadata": {},
   "outputs": [],
   "source": []
  },
  {
   "cell_type": "markdown",
   "metadata": {},
   "source": [
    "# task 3"
   ]
  },
  {
   "cell_type": "code",
   "execution_count": null,
   "metadata": {
    "collapsed": true
   },
   "outputs": [],
   "source": []
  },
  {
   "cell_type": "code",
   "execution_count": null,
   "metadata": {
    "scrolled": true
   },
   "outputs": [],
   "source": [
    "df1 = wil[['WORKORDERKEY','ESTIMATEDLABORCOSTHOURS','ACTUALLABORCOSTHOURS']].groupby('WORKORDERKEY').sum()\n",
    "df2=df1.loc[df1.ACTUALLABORCOSTHOURS!=0]\n",
    "df2=df2.loc[df2.ESTIMATEDLABORCOSTHOURS!=0]\n",
    "\n",
    "df2['error_ratio']= (df2.ESTIMATEDLABORCOSTHOURS - df2.ACTUALLABORCOSTHOURS)/df2.ACTUALLABORCOSTHOURS\n",
    "err = df2[df2.error_ratio<4].error_ratio\n",
    "fig = plt.figure()\n",
    "err.hist(bins=100, figsize=(15,10))\n",
    "fig.savefig('wilmington_error_ratio.png', dpi=fig.dpi)\n",
    "\n",
    "\n"
   ]
  },
  {
   "cell_type": "code",
   "execution_count": null,
   "metadata": {
    "scrolled": true
   },
   "outputs": [],
   "source": [
    "df1 = reno[['WORKORDERKEY','ESTIMATEDLABORCOSTHOURS','ACTUALLABORCOSTHOURS']].groupby('WORKORDERKEY').sum()\n",
    "df2=df1.loc[df1.ACTUALLABORCOSTHOURS!=0]\n",
    "df2=df2.loc[df2.ESTIMATEDLABORCOSTHOURS!=0]\n",
    "\n",
    "df2['error_ratio']= (df2.ESTIMATEDLABORCOSTHOURS - df2.ACTUALLABORCOSTHOURS)/df2.ACTUALLABORCOSTHOURS\n",
    "err = df2[df2.error_ratio<4].error_ratio\n",
    "fig = plt.figure()\n",
    "err.hist(bins=100, figsize=(15,10))\n",
    "fig.savefig('reno_error_ratio.png', dpi=fig.dpi)\n",
    "\n"
   ]
  },
  {
   "cell_type": "code",
   "execution_count": null,
   "metadata": {
    "scrolled": true
   },
   "outputs": [],
   "source": [
    "df1 = lirock[['WORKORDERKEY','ESTIMATEDLABORCOSTHOURS','ACTUALLABORCOSTHOURS']].groupby('WORKORDERKEY').sum()\n",
    "df2=df1.loc[df1.ACTUALLABORCOSTHOURS!=0]\n",
    "df2=df2.loc[df2.ESTIMATEDLABORCOSTHOURS!=0]\n",
    "\n",
    "df2['error_ratio']= (df2.ESTIMATEDLABORCOSTHOURS - df2.ACTUALLABORCOSTHOURS)/df2.ACTUALLABORCOSTHOURS\n",
    "err = df2[df2.error_ratio<4].error_ratio\n",
    "fig = plt.figure()\n",
    "err.hist(bins=100, figsize=(15,10))\n",
    "fig.savefig('littlerock_error_ratio.png', dpi=fig.dpi)"
   ]
  },
  {
   "cell_type": "code",
   "execution_count": null,
   "metadata": {
    "collapsed": true
   },
   "outputs": [],
   "source": []
  }
 ],
 "metadata": {
  "kernelspec": {
   "display_name": "Python [default]",
   "language": "python",
   "name": "python3"
  },
  "language_info": {
   "codemirror_mode": {
    "name": "ipython",
    "version": 3
   },
   "file_extension": ".py",
   "mimetype": "text/x-python",
   "name": "python",
   "nbconvert_exporter": "python",
   "pygments_lexer": "ipython3",
   "version": "3.6.3"
  }
 },
 "nbformat": 4,
 "nbformat_minor": 2
}
